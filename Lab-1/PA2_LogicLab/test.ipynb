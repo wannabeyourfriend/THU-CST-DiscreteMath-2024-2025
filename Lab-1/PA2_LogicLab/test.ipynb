{
 "cells": [
  {
   "cell_type": "code",
   "execution_count": 3,
   "metadata": {},
   "outputs": [],
   "source": [
    "string = '((~Q /\\ P) <-> (((~Q /\\ P) \\/ R) -> ~Q))'"
   ]
  },
  {
   "cell_type": "markdown",
   "metadata": {},
   "source": [
    "P\n",
    "+---+---+\n",
    "| P | P |\n",
    "+---+---+\n",
    "| F | F |\n",
    "| T | T |\n",
    "+---+---+\n",
    "####################\n",
    "~Q\n",
    "+---+-----+\n",
    "| Q | ~ Q |\n",
    "+---+-----+\n",
    "| F |  T  |\n",
    "| T |  F  |\n",
    "+---+-----+\n",
    "####################\n",
    "(P /\\ Q)\n",
    "+---+---+--------+\n",
    "| P | Q | P /\\ Q |\n",
    "+---+---+--------+\n",
    "| F | F |    F   |\n",
    "| F | T |    F   |\n",
    "| T | F |    F   |\n",
    "| T | T |    T   |\n",
    "+---+---+--------+\n",
    "####################\n",
    "(P \\/ Q)\n",
    "+---+---+--------+\n",
    "| P | Q | P \\/ Q |\n",
    "+---+---+--------+\n",
    "| F | F |    F   |\n",
    "| F | T |    T   |\n",
    "| T | F |    T   |\n",
    "| T | T |    T   |\n",
    "+---+---+--------+\n",
    "####################\n",
    "(P -> Q)\n",
    "+---+---+--------+\n",
    "| P | Q | P -> Q |\n",
    "+---+---+--------+\n",
    "| F | F |    T   |\n",
    "| F | T |    T   |\n",
    "| T | F |    F   |\n",
    "| T | T |    T   |\n",
    "+---+---+--------+\n",
    "####################\n",
    "(P <-> Q)\n",
    "+---+---+---------+\n",
    "| P | Q | P <-> Q |\n",
    "+---+---+---------+\n",
    "| F | F |    T    |\n",
    "| F | T |    F    |\n",
    "| T | F |    F    |\n",
    "| T | T |    T    |\n",
    "+---+---+---------+\n",
    "####################\n",
    "(~Q /\\ P)\n",
    "+---+---+-----------+\n",
    "| P | Q | (~Q) /\\ P |\n",
    "+---+---+-----------+\n",
    "| F | F |     F     |\n",
    "| F | T |     F     |\n",
    "| T | F |     T     |\n",
    "| T | T |     F     |\n",
    "+---+---+-----------+\n",
    "####################\n",
    "((~Q /\\ T) \\/ R)\n",
    "+---+---+---+------------------+\n",
    "| Q | R | T | ((~Q) /\\ T) \\/ R |\n",
    "+---+---+---+------------------+\n",
    "| F | F | F |         T        |\n",
    "| F | F | T |         T        |\n",
    "| F | T | F |         T        |\n",
    "| F | T | T |         T        |\n",
    "| T | F | F |         F        |\n",
    "| T | F | T |         F        |\n",
    "| T | T | F |         T        |\n",
    "| T | T | T |         T        |\n",
    "+---+---+---+------------------+\n",
    "####################\n",
    "(((~Q /\\ P) \\/ R) -> ~Q)\n",
    "+---+---+---+----------------------------+\n",
    "| P | Q | R | (((~Q) /\\ P) \\/ R) -> (~Q) |\n",
    "+---+---+---+----------------------------+\n",
    "| F | F | F |              T             |\n",
    "| F | F | T |              T             |\n",
    "| F | T | F |              T             |\n",
    "| F | T | T |              F             |\n",
    "| T | F | F |              T             |\n",
    "| T | F | T |              T             |\n",
    "| T | T | F |              T             |\n",
    "| T | T | T |              F             |\n",
    "+---+---+---+----------------------------+\n",
    "####################\n",
    "((~Q /\\ P) <-> (((~Q /\\ P) \\/ R) -> ~Q))\n",
    "+---+---+---+----------------------------------------------+\n",
    "| P | Q | R | ((~Q) /\\ P) <-> ((((~Q) /\\ P) \\/ R) -> (~Q)) |\n",
    "+---+---+---+----------------------------------------------+\n",
    "| F | F | F |                       F                      |\n",
    "| F | F | T |                       F                      |\n",
    "| F | T | F |                       F                      |\n",
    "| F | T | T |                       T                      |\n",
    "| T | F | F |                       T                      |\n",
    "| T | F | T |                       T                      |\n",
    "| T | T | F |                       F                      |\n",
    "| T | T | T |                       T                      |\n",
    "+---+---+---+----------------------------------------------+\n",
    "####################"
   ]
  },
  {
   "cell_type": "code",
   "execution_count": 1,
   "metadata": {},
   "outputs": [
    {
     "ename": "ImportError",
     "evalue": "cannot import name 'operatorPrecedence' from 'pyparsing' (C:\\Users\\35551\\AppData\\Roaming\\Python\\Python310\\site-packages\\pyparsing\\__init__.py)",
     "output_type": "error",
     "traceback": [
      "\u001b[1;31m---------------------------------------------------------------------------\u001b[0m",
      "\u001b[1;31mImportError\u001b[0m                               Traceback (most recent call last)",
      "Cell \u001b[1;32mIn[1], line 1\u001b[0m\n\u001b[1;32m----> 1\u001b[0m \u001b[38;5;28;01mfrom\u001b[39;00m\u001b[38;5;250m \u001b[39m\u001b[38;5;21;01mhelper\u001b[39;00m\u001b[38;5;250m \u001b[39m\u001b[38;5;28;01mimport\u001b[39;00m \u001b[38;5;241m*\u001b[39m\n",
      "File \u001b[1;32me:\\project\\DM\\Lab-1\\2_LogicLab\\helper.py:1\u001b[0m\n\u001b[1;32m----> 1\u001b[0m \u001b[38;5;28;01mfrom\u001b[39;00m\u001b[38;5;250m \u001b[39m\u001b[38;5;21;01mpropParse\u001b[39;00m\u001b[38;5;250m \u001b[39m\u001b[38;5;28;01mimport\u001b[39;00m \u001b[38;5;241m*\u001b[39m\n\u001b[0;32m      2\u001b[0m \u001b[38;5;28;01mdef\u001b[39;00m\u001b[38;5;250m \u001b[39m\u001b[38;5;21mformatFormula\u001b[39m(form):\n\u001b[0;32m      3\u001b[0m     \u001b[38;5;66;03m#请在此编程实现函数功能\u001b[39;00m\n\u001b[0;32m      4\u001b[0m     correpond \u001b[38;5;241m=\u001b[39m {\u001b[38;5;124m'\u001b[39m\u001b[38;5;124m/\u001b[39m\u001b[38;5;130;01m\\\\\u001b[39;00m\u001b[38;5;124m'\u001b[39m:\u001b[38;5;124m'\u001b[39m\u001b[38;5;124m and \u001b[39m\u001b[38;5;124m'\u001b[39m, \u001b[38;5;124m'\u001b[39m\u001b[38;5;130;01m\\\\\u001b[39;00m\u001b[38;5;124m/\u001b[39m\u001b[38;5;124m'\u001b[39m:\u001b[38;5;124m'\u001b[39m\u001b[38;5;124m or \u001b[39m\u001b[38;5;124m'\u001b[39m, \u001b[38;5;124m'\u001b[39m\u001b[38;5;124m->\u001b[39m\u001b[38;5;124m'\u001b[39m:\u001b[38;5;124m'\u001b[39m\u001b[38;5;124m implies \u001b[39m\u001b[38;5;124m'\u001b[39m, \u001b[38;5;124m'\u001b[39m\u001b[38;5;124m~\u001b[39m\u001b[38;5;124m'\u001b[39m:\u001b[38;5;124m'\u001b[39m\u001b[38;5;124m not \u001b[39m\u001b[38;5;124m'\u001b[39m, \u001b[38;5;124m'\u001b[39m\u001b[38;5;124m<->\u001b[39m\u001b[38;5;124m'\u001b[39m:\u001b[38;5;124m'\u001b[39m\u001b[38;5;124m equiv \u001b[39m\u001b[38;5;124m'\u001b[39m}\n",
      "File \u001b[1;32me:\\project\\DM\\Lab-1\\2_LogicLab\\propParse.py:3\u001b[0m\n\u001b[0;32m      1\u001b[0m \u001b[38;5;28;01mfrom\u001b[39;00m\u001b[38;5;250m \u001b[39m\u001b[38;5;21;01mpyparsing\u001b[39;00m\u001b[38;5;250m \u001b[39m\u001b[38;5;28;01mimport\u001b[39;00m \u001b[38;5;241m*\u001b[39m\n\u001b[0;32m      2\u001b[0m \u001b[38;5;28;01mfrom\u001b[39;00m\u001b[38;5;250m \u001b[39m\u001b[38;5;21;01mproposition\u001b[39;00m\u001b[38;5;250m \u001b[39m\u001b[38;5;28;01mimport\u001b[39;00m \u001b[38;5;241m*\u001b[39m\n\u001b[1;32m----> 3\u001b[0m \u001b[38;5;28;01mfrom\u001b[39;00m\u001b[38;5;250m \u001b[39m\u001b[38;5;21;01mlogic\u001b[39;00m\u001b[38;5;250m \u001b[39m\u001b[38;5;28;01mimport\u001b[39;00m \u001b[38;5;241m*\u001b[39m\n\u001b[0;32m      4\u001b[0m \u001b[38;5;124;03m\"\"\"\u001b[39;00m\n\u001b[0;32m      5\u001b[0m \u001b[38;5;124;03mFOL BNF\u001b[39;00m\n\u001b[0;32m      6\u001b[0m \u001b[38;5;124;03m    FORMULA     ::= PROPOSITION\u001b[39;00m\n\u001b[1;32m   (...)\u001b[0m\n\u001b[0;32m     13\u001b[0m \u001b[38;5;124;03m    PROPOSITION ::= [A-Z]\\w\u001b[39;00m\n\u001b[0;32m     14\u001b[0m \u001b[38;5;124;03m\"\"\"\u001b[39;00m\n\u001b[0;32m     15\u001b[0m \u001b[38;5;28;01mdef\u001b[39;00m\u001b[38;5;250m \u001b[39m\u001b[38;5;21mpropParse\u001b[39m(text):\n",
      "File \u001b[1;32me:\\project\\DM\\Lab-1\\2_LogicLab\\logic.py:1\u001b[0m\n\u001b[1;32m----> 1\u001b[0m \u001b[38;5;28;01mfrom\u001b[39;00m\u001b[38;5;250m \u001b[39m\u001b[38;5;21;01mpyparsing\u001b[39;00m\u001b[38;5;250m \u001b[39m\u001b[38;5;28;01mimport\u001b[39;00m (alphanums, alphas, delimitedList, Forward,oneOf,\n\u001b[0;32m      2\u001b[0m             Group, Keyword, Literal, opAssoc, operatorPrecedence,\n\u001b[0;32m      3\u001b[0m             ParserElement, ParseException, ParseSyntaxException, Suppress,ZeroOrMore,\n\u001b[0;32m      4\u001b[0m             Word)\n\u001b[0;32m      6\u001b[0m ParserElement\u001b[38;5;241m.\u001b[39menablePackrat()\n\u001b[0;32m      7\u001b[0m \u001b[38;5;28;01mfrom\u001b[39;00m\u001b[38;5;250m \u001b[39m\u001b[38;5;21;01mproposition\u001b[39;00m\u001b[38;5;250m \u001b[39m\u001b[38;5;28;01mimport\u001b[39;00m \u001b[38;5;241m*\u001b[39m\n",
      "\u001b[1;31mImportError\u001b[0m: cannot import name 'operatorPrecedence' from 'pyparsing' (C:\\Users\\35551\\AppData\\Roaming\\Python\\Python310\\site-packages\\pyparsing\\__init__.py)"
     ]
    }
   ],
   "source": [
    "from helper import *"
   ]
  },
  {
   "cell_type": "code",
   "execution_count": 16,
   "metadata": {},
   "outputs": [
    {
     "ename": "NameError",
     "evalue": "name 'genTruthTable' is not defined",
     "output_type": "error",
     "traceback": [
      "\u001b[1;31m---------------------------------------------------------------------------\u001b[0m",
      "\u001b[1;31mNameError\u001b[0m                                 Traceback (most recent call last)",
      "Cell \u001b[1;32mIn[16], line 1\u001b[0m\n\u001b[1;32m----> 1\u001b[0m \u001b[43mgenTruthTable\u001b[49m()\n",
      "\u001b[1;31mNameError\u001b[0m: name 'genTruthTable' is not defined"
     ]
    }
   ],
   "source": [
    "genTruthTable()"
   ]
  },
  {
   "cell_type": "code",
   "execution_count": 5,
   "metadata": {},
   "outputs": [],
   "source": [
    "! python3 solution.py"
   ]
  },
  {
   "cell_type": "code",
   "execution_count": null,
   "metadata": {},
   "outputs": [],
   "source": []
  }
 ],
 "metadata": {
  "kernelspec": {
   "display_name": "Python 3",
   "language": "python",
   "name": "python3"
  },
  "language_info": {
   "codemirror_mode": {
    "name": "ipython",
    "version": 3
   },
   "file_extension": ".py",
   "mimetype": "text/x-python",
   "name": "python",
   "nbconvert_exporter": "python",
   "pygments_lexer": "ipython3",
   "version": "3.10.11"
  }
 },
 "nbformat": 4,
 "nbformat_minor": 2
}
