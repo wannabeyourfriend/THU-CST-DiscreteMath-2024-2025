{
 "cells": [
  {
   "cell_type": "code",
   "execution_count": 4,
   "metadata": {},
   "outputs": [],
   "source": [
    "from database_methods import *\n",
    "dept, emp, emp2 = defineTables()"
   ]
  },
  {
   "cell_type": "code",
   "execution_count": 6,
   "metadata": {},
   "outputs": [
    {
     "name": "stdout",
     "output_type": "stream",
     "text": [
      "+-----+-------------+--------+\n",
      "| DNO | DNAME       | BUDGET |\n",
      "+-----+-------------+--------+\n",
      "| D1  | Marketing   | 10M    |\n",
      "| D3  | Research    | 5M     |\n",
      "| D2  | Development | 12M    |\n",
      "+-----+-------------+--------+\n",
      "+-----+-------+-----+--------+\n",
      "| ENO | ENAME | DNO | SALARY |\n",
      "+-----+-------+-----+--------+\n",
      "| E2  | Cheng | D1  | 42K    |\n",
      "| E3  | Finzi | D2  | 30K    |\n",
      "| E1  | Lopez | D1  | 40K    |\n",
      "+-----+-------+-----+--------+\n",
      "+-----+-------+-----+--------+\n",
      "| ENO | ENAME | DNO | SALARY |\n",
      "+-----+-------+-----+--------+\n",
      "| E4  | Saito | D2  | 35K    |\n",
      "| E3  | Finzi | D2  | 30K    |\n",
      "+-----+-------+-----+--------+\n"
     ]
    }
   ],
   "source": [
    "dept.display()\n",
    "emp.display()\n",
    "emp2.display()"
   ]
  },
  {
   "cell_type": "code",
   "execution_count": 7,
   "metadata": {},
   "outputs": [
    {
     "name": "stderr",
     "output_type": "stream",
     "text": [
      "ERROR: Could not find a version that satisfies the requirement unittest (from versions: none)\n",
      "\n",
      "[notice] A new release of pip is available: 23.0.1 -> 25.0.1\n",
      "[notice] To update, run: python.exe -m pip install --upgrade pip\n",
      "ERROR: No matching distribution found for unittest\n"
     ]
    }
   ],
   "source": [
    "! pip install unittest"
   ]
  },
  {
   "cell_type": "code",
   "execution_count": 8,
   "metadata": {},
   "outputs": [
    {
     "name": "stdout",
     "output_type": "stream",
     "text": [
      "Joined Employee Table:\n",
      "+-----+-------+-----+--------+\n",
      "| ENO | ENAME | DNO | SALARY |\n",
      "+-----+-------+-----+--------+\n",
      "| E3  | Finzi | D2  | 30K    |\n",
      "+-----+-------+-----+--------+\n",
      "Projected Department Table:\n",
      "+-----+-------------+\n",
      "| DNO | DNAME       |\n",
      "+-----+-------------+\n",
      "| D1  | Marketing   |\n",
      "| D2  | Development |\n",
      "| D3  | Research    |\n",
      "+-----+-------------+\n",
      "Selected Employee Table (SALARY == 40K):\n",
      "+-----+-------+-----+--------+\n",
      "| ENO | ENAME | DNO | SALARY |\n",
      "+-----+-------+-----+--------+\n",
      "| E1  | Lopez | D1  | 40K    |\n",
      "+-----+-------+-----+--------+\n",
      "Department Table:\n",
      "+-----+-------------+--------+\n",
      "| DNO | DNAME       | BUDGET |\n",
      "+-----+-------------+--------+\n",
      "| D2  | Development | 12M    |\n",
      "| D3  | Research    | 5M     |\n",
      "| D1  | Marketing   | 10M    |\n",
      "+-----+-------------+--------+\n",
      "Employee Table 1:\n",
      "+-----+-------+-----+--------+\n",
      "| ENO | ENAME | DNO | SALARY |\n",
      "+-----+-------+-----+--------+\n",
      "| E2  | Cheng | D1  | 42K    |\n",
      "| E1  | Lopez | D1  | 40K    |\n",
      "| E3  | Finzi | D2  | 30K    |\n",
      "+-----+-------+-----+--------+\n",
      "Employee Table 2:\n",
      "+-----+-------+-----+--------+\n",
      "| ENO | ENAME | DNO | SALARY |\n",
      "+-----+-------+-----+--------+\n",
      "| E4  | Saito | D2  | 35K    |\n",
      "| E3  | Finzi | D2  | 30K    |\n",
      "+-----+-------+-----+--------+\n"
     ]
    },
    {
     "name": "stderr",
     "output_type": "stream",
     "text": [
      "EEEE\n",
      "======================================================================\n",
      "ERROR: test_JOIN (test.TestRelationalDatabase)\n",
      "----------------------------------------------------------------------\n",
      "Traceback (most recent call last):\n",
      "  File \"e:\\project\\DM\\Lab-1\\RelationLab\\test.py\", line 45, in test_JOIN\n",
      "    self.assertEqual(len(joined.tuples()), 2)  # E3 from emp and emp2 should join\n",
      "TypeError: object of type 'generator' has no len()\n",
      "\n",
      "======================================================================\n",
      "ERROR: test_PROJECT (test.TestRelationalDatabase)\n",
      "----------------------------------------------------------------------\n",
      "Traceback (most recent call last):\n",
      "  File \"e:\\project\\DM\\Lab-1\\RelationLab\\test.py\", line 26, in test_PROJECT\n",
      "    self.assertEqual(len(projected_dept.tuples()), 3)\n",
      "TypeError: object of type 'generator' has no len()\n",
      "\n",
      "======================================================================\n",
      "ERROR: test_SELECT (test.TestRelationalDatabase)\n",
      "----------------------------------------------------------------------\n",
      "Traceback (most recent call last):\n",
      "  File \"e:\\project\\DM\\Lab-1\\RelationLab\\test.py\", line 37, in test_SELECT\n",
      "    self.assertEqual(len(selected_emp.tuples()), 1)\n",
      "TypeError: object of type 'generator' has no len()\n",
      "\n",
      "======================================================================\n",
      "ERROR: test_defineTables (test.TestRelationalDatabase)\n",
      "----------------------------------------------------------------------\n",
      "Traceback (most recent call last):\n",
      "  File \"e:\\project\\DM\\Lab-1\\RelationLab\\test.py\", line 17, in test_defineTables\n",
      "    self.assertEqual(len(self.dept.tuples()), 3)\n",
      "TypeError: object of type 'generator' has no len()\n",
      "\n",
      "----------------------------------------------------------------------\n",
      "Ran 4 tests in 0.002s\n",
      "\n",
      "FAILED (errors=4)\n"
     ]
    }
   ],
   "source": [
    "! python -m unittest test.py"
   ]
  }
 ],
 "metadata": {
  "kernelspec": {
   "display_name": "Python 3",
   "language": "python",
   "name": "python3"
  },
  "language_info": {
   "codemirror_mode": {
    "name": "ipython",
    "version": 3
   },
   "file_extension": ".py",
   "mimetype": "text/x-python",
   "name": "python",
   "nbconvert_exporter": "python",
   "pygments_lexer": "ipython3",
   "version": "3.10.11"
  }
 },
 "nbformat": 4,
 "nbformat_minor": 2
}
